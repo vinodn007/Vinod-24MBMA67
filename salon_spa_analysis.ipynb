{
    "cells": [
        {
            "cell_type": "code",
            "metadata": {},
            "source": [
                "from pyspark.sql import SparkSession\n",
                "from pyspark.sql import functions as F"
            ],
            "execution_count": null,
            "outputs": []
        },
        {
            "cell_type": "code",
            "metadata": {},
            "source": [
                "spark = SparkSession.builder.appName(\"SalonSpaAnalysis\").getOrCreate()"
            ],
            "execution_count": null,
            "outputs": []
        },
        {
            "cell_type": "code",
            "metadata": {},
            "source": [
                "# Load data from table\n",
                "df = spark.table(\"workspace.default.salon_spa_data\")"
            ],
            "execution_count": null,
            "outputs": []
        },
        {
            "cell_type": "code",
            "metadata": {},
            "source": [
                "# 1. Total Revenue per Salon and Spa\n",
                "total_revenue_df = df.groupBy(\"Salon Name\").agg(\n",
                "    F.sum(\"Amount Spent\").alias(\"Total_Revenue\")\n",
                ").orderBy(F.desc(\"Total_Revenue\"))\n",
                "total_revenue_df.show()"
            ],
            "execution_count": null,
            "outputs": []
        },
        {
            "cell_type": "code",
            "metadata": {},
            "source": [
                "# 2. Average Peak Booking Period\n",
                "booking_trend_df = df.groupBy(\"Booking Date\").count().withColumnRenamed(\"count\", \"Booking_Count\").orderBy(\"Booking Date\")\n",
                "booking_trend_df.show()\n",
                "\n",
                "average_peak_df = booking_trend_df.agg(F.avg(\"Booking_Count\").alias(\"Avg_Bookings_Per_Day\"))\n",
                "average_peak_df.show()"
            ],
            "execution_count": null,
            "outputs": []
        },
        {
            "cell_type": "code",
            "metadata": {},
            "source": [
                "# 3. Average Services Booked per Customer\n",
                "services_per_customer_df = df.groupBy(\"Customer ID\").count().withColumnRenamed(\"count\", \"Services_Booked\")\n",
                "average_services_df = services_per_customer_df.agg(F.avg(\"Services_Booked\").alias(\"Avg_Services_Booked_Per_Customer\"))\n",
                "average_services_df.show()"
            ],
            "execution_count": null,
            "outputs": []
        },
        {
            "cell_type": "code",
            "metadata": {},
            "source": [
                "# 4a. Average Rating per Service\n",
                "avg_rating_service_df = df.groupBy(\"Service Name\").agg(F.avg(\"Rating\").alias(\"Avg_Rating\")).orderBy(F.desc(\"Avg_Rating\"))\n",
                "avg_rating_service_df.show()"
            ],
            "execution_count": null,
            "outputs": []
        },
        {
            "cell_type": "code",
            "metadata": {},
            "source": [
                "# 4b. Average Rating per Salon\n",
                "avg_rating_salon_df = df.groupBy(\"Salon Name\").agg(F.avg(\"Rating\").alias(\"Avg_Rating\")).orderBy(F.desc(\"Avg_Rating\"))\n",
                "avg_rating_salon_df.show()"
            ],
            "execution_count": null,
            "outputs": []
        },
        {
            "cell_type": "code",
            "metadata": {},
            "source": [
                "# 4c. Average Rating per Staff\n",
                "avg_rating_staff_df = df.groupBy(\"Staff Name\").agg(F.avg(\"Rating\").alias(\"Avg_Rating\")).orderBy(F.desc(\"Avg_Rating\"))\n",
                "avg_rating_staff_df.show()"
            ],
            "execution_count": null,
            "outputs": []
        }
    ],
    "metadata": {
        "kernelspec": {
            "display_name": "Python 3",
            "language": "python",
            "name": "python3"
        },
        "language_info": {
            "name": "python",
            "version": "3.x"
        }
    },
    "nbformat": 4,
    "nbformat_minor": 5
}